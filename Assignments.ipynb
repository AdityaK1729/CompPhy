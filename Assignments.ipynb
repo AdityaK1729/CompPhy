{
 "cells": [
  {
   "cell_type": "markdown",
   "metadata": {},
   "source": [
    "# **Basic Python**"
   ]
  },
  {
   "cell_type": "markdown",
   "metadata": {},
   "source": [
    "## 1.a \n",
    "Give a function F that takes a single argument n. This function should print a sequence of n strings as described in the examples below: <br>\n",
    "Ex: **n = 3**\n",
    "\n",
    "--A--<br>\n",
    "-BAB-<br>\n",
    "CBABC<br>\n",
    "\n",
    "**n = 4**\n",
    "\n",
    "---A---<br>\n",
    "--BAB--<br>\n",
    "-CBABC-<br>\n",
    "DCBABCD"
   ]
  },
  {
   "cell_type": "code",
   "execution_count": 6,
   "metadata": {},
   "outputs": [
    {
     "name": "stdout",
     "output_type": "stream",
     "text": [
      "---------A---------\n",
      "\n",
      "--------BAB--------\n",
      "\n",
      "-------CBABC-------\n",
      "\n",
      "------DCBABCD------\n",
      "\n",
      "-----EDCBABCDE-----\n",
      "\n",
      "----FEDCBABCDEF----\n",
      "\n",
      "---GFEDCBABCDEFG---\n",
      "\n",
      "--HGFEDCBABCDEFGH--\n",
      "\n",
      "-IHGFEDCBABCDEFGHI-\n",
      "\n",
      "JIHGFEDCBABCDEFGHIJ\n",
      "\n",
      "-----A-----\n",
      "\n",
      "----BAB----\n",
      "\n",
      "---CBABC---\n",
      "\n",
      "--DCBABCD--\n",
      "\n",
      "-EDCBABCDE-\n",
      "\n",
      "FEDCBABCDEF\n",
      "\n"
     ]
    }
   ],
   "source": [
    "def F(n):\n",
    "    x=ord('A')\n",
    "    for i in range(n):\n",
    "        for j in range(n-i-1):\n",
    "            print('-',end='')\n",
    "        for j in range(i+1):\n",
    "            print(chr(x+i-j),end='')\n",
    "        for j in range(i):\n",
    "            print(chr(x+j+1),end='')\n",
    "        for j in range(n-i-1):\n",
    "            print('-',end='')\n",
    "        print('\\n')\n",
    "\n",
    "# Tests\n",
    "F(10)\n",
    "F(6)"
   ]
  },
  {
   "cell_type": "markdown",
   "metadata": {},
   "source": [
    "## 1.b\n",
    "Make a function F that takes only one argument, a dictionary(dict) d.\n",
    "The keys of d are integers and the values of d are a tuple of type (x (int), y (int)).\n",
    "You must print out the dict in the format \"-key-, -x-, -y-\" with each entry in a new line. Print it for each of the three sorted orders, by key values ascending, by x values descending, by y values ascending."
   ]
  },
  {
   "cell_type": "code",
   "execution_count": 17,
   "metadata": {},
   "outputs": [
    {
     "name": "stdout",
     "output_type": "stream",
     "text": [
      "-1-,-1-,-2-\n",
      "-2-,--1-,-4-\n",
      "-4-,-2-,-3-\n",
      "-5-,--4-,-3-\n",
      "\n",
      "-4-,-2-,-3-\n",
      "-1-,-1-,-2-\n",
      "-2-,--1-,-4-\n",
      "-5-,--4-,-3-\n",
      "\n",
      "-1-,-1-,-2-\n",
      "-5-,--4-,-3-\n",
      "-4-,-2-,-3-\n",
      "-2-,--1-,-4-\n",
      "ends\n",
      "--8-,-4-,-2-\n",
      "-5-,-9-,--10-\n",
      "-6-,--3-,-4-\n",
      "-7-,-2-,-1-\n",
      "\n",
      "-5-,-9-,--10-\n",
      "--8-,-4-,-2-\n",
      "-7-,-2-,-1-\n",
      "-6-,--3-,-4-\n",
      "\n",
      "-5-,-9-,--10-\n",
      "-7-,-2-,-1-\n",
      "--8-,-4-,-2-\n",
      "-6-,--3-,-4-\n",
      "ends\n"
     ]
    }
   ],
   "source": [
    "def F(d : dict):\n",
    "    # Start coding\n",
    "    for key in sorted(d.keys()): #keys asc\n",
    "        x,y=d[key]\n",
    "        print(f'-{key}-,-{x}-,-{y}-')\n",
    "        \n",
    "    print()\n",
    "    for key in sorted(d.keys(),key=lambda k:d[k][0], reverse=True): # x desc\n",
    "        x,y=d[key]\n",
    "        print(f'-{key}-,-{x}-,-{y}-')\n",
    "    print()\n",
    "    for key in sorted(d.keys(),key=lambda k:d[k][1]): #y ascending\n",
    "        x,y=d[key]\n",
    "        print(f'-{key}-,-{x}-,-{y}-')\n",
    "    print('ends')\n",
    "\n",
    "\n",
    "# Tests\n",
    "F({1 : (1, 2), 2 : (-1, 4), 5 : (-4, 3), 4 : (2, 3)})\n",
    "F({-8 : (4, 2), 6 : (-3, 4), 7 : (2, 1), 5 : (9, -10)})"
   ]
  },
  {
   "cell_type": "markdown",
   "metadata": {},
   "source": [
    "## 2 Working with Student Records\n",
    "\n",
    "Use the data in **student_records.csv** to complete the given tasks. Do not include any external libraries. Use a Python dictionary if required.\n",
    "\n",
    "### Reference\n",
    "- [Python Dictionaries](https://www.w3schools.com/python/python_dictionaries.asp)\n"
   ]
  },
  {
   "cell_type": "markdown",
   "metadata": {},
   "source": [
    "#### 2.a: open the student_records.csv file and print out the first 10 rows"
   ]
  },
  {
   "cell_type": "code",
   "execution_count": 27,
   "metadata": {},
   "outputs": [
    {
     "name": "stdout",
     "output_type": "stream",
     "text": [
      "[['588946', 'MA', 3, 'EC250', 'hasmed_elective', 'AB'], ['145372', 'EP', 4, 'EP407', 'hasmed_elective', 'CC'], ['834515', 'MA', 8, 'EP885', 'hasmed_elective', 'BB'], ['344265', 'CSE', 6, 'CSE699', 'honours', 'AB'], ['358405', 'MA', 3, 'EE460', 'minor', 'AP'], ['781075', 'CE', 8, 'CE540', 'honours', 'CC'], ['180828', 'CSE', 6, 'CE880', 'minor', 'AB'], ['981238', 'MM', 4, 'CSE226', 'minor', 'AB'], ['836881', 'MM', 8, 'MM530', 'core', 'AA'], ['310604', 'EE', 8, 'EE202', 'core', 'AB']]\n"
     ]
    }
   ],
   "source": [
    "file_name='student_records.csv'\n",
    "student_data = {}\n",
    "with open(file_name, 'r') as pile:\n",
    "    header = pile.readline().strip().split('\\t')\n",
    "    DATA=[]\n",
    "    for line in pile:\n",
    "        data = line.strip().split(',')\n",
    "        data[2]=int(data[2]) #integerify credit\n",
    "        DATA.append(data)\n",
    "\n",
    "print(DATA[:10],='\\n')\n"
   ]
  },
  {
   "cell_type": "markdown",
   "metadata": {},
   "source": [
    "#### 2.b: Print out the total credits and calculte CPI of each student. \n",
    "CPI is the weighted average of core courses, and electives (weights being the letter grades converted to number AP,AA=10, AB=9, BB=9, BC=7, CC=6)"
   ]
  },
  {
   "cell_type": "code",
   "execution_count": 43,
   "metadata": {},
   "outputs": [
    {
     "name": "stdout",
     "output_type": "stream",
     "text": [
      "{'588946': [199, 34, 30, 25, 26, 37, 20, 27, 8.565531851286266], '145372': [173, 20, 31, 8, 39, 33, 18, 24, 7.769591204104568], '834515': [199, 50, 15, 53, 28, 15, 32, 6, 8.28112040527327], '344265': [153, 11, 18, 20, 31, 28, 27, 18, 8.627045807663267], '358405': [206, 15, 12, 49, 44, 29, 34, 23, 8.593016319477295], '781075': [246, 63, 23, 46, 36, 20, 32, 26, 8.211605726871433], '180828': [177, 29, 22, 40, 23, 15, 7, 41, 8.163842363636277], '981238': [168, 64, 17, 10, 29, 22, 8, 18, 8.17678793803579], '836881': [246, 24, 37, 11, 44, 52, 28, 50, 8.132903211357357], '310604': [198, 26, 35, 32, 22, 7, 31, 45, 8.110738322190253], '847809': [261, 15, 22, 18, 45, 66, 16, 79, 8.260187606755382], '773982': [264, 53, 47, 17, 22, 25, 57, 43, 8.082344698246755], '500658': [208, 34, 37, 14, 43, 21, 26, 33, 8.008244933203951], '810863': [192, 46, 28, 28, 6, 36, 13, 35, 7.987972005877252], '124663': [229, 53, 22, 19, 6, 37, 43, 49, 8.108505722334025], '364146': [225, 21, 11, 30, 32, 37, 40, 54, 8.345447834213042], '871746': [216, 31, 29, 20, 31, 14, 28, 63, 8.07836566404705], '270007': [241, 17, 22, 54, 47, 22, 37, 42, 8.103110084708117], '597353': [200, 10, 28, 18, 21, 70, 18, 35, 8.05325594210435], '986057': [199, 22, 61, 31, 34, 13, 14, 24, 8.061071454383264], '718510': [184, 23, 32, 6, 57, 24, 24, 18, 8.55653498002081], '836431': [160, 7, 16, 25, 30, 31, 42, 9, 7.802621850796663], '379479': [260, 72, 16, 31, 36, 38, 52, 15, 8.1961443082694], '582912': [221, 22, 12, 55, 20, 27, 54, 31, 8.692881774275685], '788020': [193, 39, 15, 3, 33, 37, 24, 42, 7.86127079404718], '613401': [209, 39, 3, 30, 43, 26, 54, 14, 8.53589636122745], '144528': [228, 26, 28, 28, 30, 23, 51, 42, 8.253601125461541], '485484': [216, 32, 36, 30, 34, 14, 42, 28, 8.339956771877098], '680096': [153, 10, 21, 17, 20, 22, 48, 15, 8.170946574130202], '199713': [172, 35, 20, 8, 42, 36, 21, 10, 8.197353602989399], '851029': [161, 16, 38, 16, 44, 12, 23, 12, 8.032802167276424], '845623': [237, 26, 41, 40, 62, 19, 11, 38, 8.342805761291537], '150503': [173, 47, 25, 34, 30, 15, 19, 3, 8.34083271377046], '214270': [229, 31, 26, 28, 41, 35, 38, 30, 7.994914173887832], '517837': [205, 29, 16, 16, 40, 20, 41, 43, 8.565915992503465], '482623': [254, 47, 21, 25, 30, 48, 42, 41, 8.570458459624827], '721490': [235, 63, 25, 26, 56, 27, 15, 23, 8.208849821973802], '955757': [251, 25, 41, 28, 36, 30, 22, 69, 8.539685644792753], '589528': [153, 24, 14, 49, 9, 7, 30, 20, 8.67859999200103], '143856': [201, 53, 29, 23, 17, 35, 15, 29, 8.305649485129223], '571782': [217, 23, 23, 14, 33, 38, 32, 54, 8.11271331566366], '973158': [193, 22, 37, 28, 24, 32, 15, 35, 8.379602018669063], '703403': [254, 27, 30, 18, 33, 53, 54, 39, 8.310378157280637], '960395': [262, 34, 33, 17, 38, 44, 50, 46, 8.364716681045875], '521087': [223, 37, 24, 19, 7, 30, 45, 61, 7.788241770947011], '461971': [252, 42, 39, 44, 44, 45, 16, 22, 8.37162427901066], '879634': [203, 33, 16, 46, 14, 37, 23, 34, 8.828610814073253], '716985': [185, 31, 34, 41, 6, 38, 11, 24, 8.12168116651396], '194063': [157, 7, 40, 24, 32, 12, 29, 13, 8.239586152069412], '265922': [236, 51, 25, 49, 38, 27, 15, 31, 8.326877951737337], '283796': [211, 45, 38, 19, 12, 32, 35, 30, 8.76429684802142], '203200': [157, 37, 19, 16, 21, 22, 26, 16, 8.798140912522433], '301135': [206, 19, 28, 38, 14, 29, 37, 41, 7.942267816254395], '327122': [246, 60, 32, 59, 39, 10, 15, 31, 8.144886899087659], '381526': [160, 13, 20, 24, 29, 34, 32, 8, 8.504766375175768], '534763': [158, 23, 30, 11, 37, 15, 25, 17, 7.757210015721192], '391848': [217, 35, 59, 28, 32, 28, 15, 20, 8.385004146715358], '329535': [157, 25, 8, 56, 7, 27, 6, 28, 8.279117509423216], '971123': [210, 31, 16, 31, 31, 22, 33, 46, 7.821617341774788], '207443': [161, 45, 21, 14, 31, 10, 18, 22, 8.384198813902325], '488661': [248, 42, 42, 32, 37, 11, 24, 60, 8.694687764128554], '782129': [184, 34, 24, 15, 24, 23, 25, 39, 8.535403609246206], '928288': [191, 32, 27, 33, 35, 8, 30, 26, 8.527181318468294], '581858': [216, 50, 42, 14, 40, 23, 24, 23, 7.794315446353058], '733782': [169, 14, 21, 61, 3, 32, 16, 22, 8.66489141512463], '282482': [228, 45, 26, 39, 20, 12, 55, 31, 8.333347963137973], '572815': [212, 26, 23, 42, 13, 33, 28, 47, 8.216987167086597], '608952': [251, 40, 28, 56, 32, 18, 34, 43, 8.502510680277176], '628849': [183, 25, 29, 15, 18, 45, 33, 18, 8.652774416845094], '630568': [217, 28, 45, 21, 39, 30, 48, 6, 8.12169847132067], '388969': [229, 43, 36, 30, 11, 43, 22, 44, 8.295632104566424], '159438': [176, 36, 25, 24, 19, 30, 12, 30, 8.518757535450003], '478606': [244, 11, 53, 51, 36, 38, 31, 24, 8.328260672702802], '995208': [157, 21, 6, 33, 28, 24, 9, 36, 7.735798673046175], '841365': [177, 7, 46, 23, 37, 21, 29, 14, 7.928305027163597], '870642': [161, 29, 8, 31, 28, 8, 16, 41, 7.762063838039826], '970791': [220, 34, 30, 27, 12, 20, 54, 43, 8.24186540108469], '143142': [234, 26, 31, 34, 44, 30, 38, 31, 9.06384140366433], '998293': [207, 24, 55, 31, 40, 12, 18, 27, 8.65582465835113], '907454': [245, 16, 38, 8, 39, 50, 48, 46, 8.301885335809404], '681499': [234, 34, 32, 42, 40, 36, 23, 27, 8.299137795284047], '888886': [207, 53, 33, 22, 19, 40, 23, 17, 8.247799201865845], '608522': [159, 26, 22, 24, 30, 19, 11, 27, 8.583963874838346], '362471': [214, 39, 28, 36, 50, 39, 14, 8, 7.956683106794333], '465496': [168, 22, 12, 32, 16, 46, 32, 8, 8.280518767069546], '208100': [182, 31, 10, 44, 23, 35, 17, 22, 8.792329568947975], '138296': [200, 14, 70, 16, 14, 29, 36, 21, 8.354313456655943], '775967': [197, 6, 46, 19, 46, 23, 24, 33, 8.30751079043906], '692318': [216, 33, 44, 44, 26, 17, 20, 32, 8.197642254125679], '461584': [234, 18, 47, 40, 42, 43, 41, 3, 8.190518279084062], '626000': [210, 23, 38, 23, 54, 21, 36, 15, 8.478209037650561], '458200': [190, 66, 25, 16, 4, 35, 26, 18, 8.322629116376733], '581065': [196, 21, 35, 11, 19, 39, 32, 39, 8.277575839727435], '787967': [192, 22, 39, 27, 32, 16, 35, 21, 8.436199561987047], '381227': [179, 25, 41, 17, 34, 29, 3, 30, 8.06015660732454], '750259': [209, 36, 24, 33, 31, 13, 23, 49, 8.355262209476397], '881983': [169, 25, 22, 22, 29, 20, 41, 10, 8.152988950845094], '294697': [269, 38, 25, 54, 56, 14, 35, 47, 8.532878569415042], '816041': [158, 41, 13, 22, 14, 26, 9, 33, 8.238579070141649], '993835': [175, 15, 50, 22, 12, 34, 23, 19, 8.489367375810914]}\n"
     ]
    }
   ],
   "source": [
    "checkrn=set()\n",
    "grade={'AA':10,'AP':10,'AB':9,'BB':8,'BC':7,'CC':6}\n",
    "CPIdict={}\n",
    "for data in DATA:\n",
    "    if data[0] not in CPIdict:\n",
    "        #total, core, DE, FE, HE, Minor, Honors,alc,CPI\n",
    "        CPIdict[data[0]]=[0,0,0,0,0,0,0,0,0.0]\n",
    "    CPIdict[data[0]][0]+=data[2]\n",
    "    total=CPIdict[data[0]][0]\n",
    "    CPIdict[data[0]][1]+=data[2]*(data[4]=='core')\n",
    "    CPIdict[data[0]][2]+=data[2]*(data[4]=='department_elective')\n",
    "    CPIdict[data[0]][3]+=data[2]*(data[4]=='flexible_elective')\n",
    "    CPIdict[data[0]][4]+=data[2]*(data[4]=='hasmed_elective')\n",
    "    CPIdict[data[0]][5]+=data[2]*(data[4]=='minor')\n",
    "    CPIdict[data[0]][6]+=data[2]*(data[4]=='honours')\n",
    "    CPIdict[data[0]][7]+=data[2]*(data[4]=='alc')\n",
    "    useless=CPIdict[data[0]][5]+CPIdict[data[0]][6]+CPIdict[data[0]][7]\n",
    "    if total-useless==0:\n",
    "        continue\n",
    "    cpi=CPIdict[data[0]][8]\n",
    "    CPIdict[data[0]][8]=(cpi*(total-useless-data[2])+data[2]*grade[data[-1]])/(total-useless)\n",
    "print(CPIdict)"
   ]
  },
  {
   "cell_type": "markdown",
   "metadata": {},
   "source": [
    "#### 2.c: Print out the names of all students who meet the graduation requirements \n",
    "Atleast 20 credist of core course, 15 credits of department elective, 10 credits of flexible elective and 5 credits of hasmed electives"
   ]
  },
  {
   "cell_type": "code",
   "execution_count": 45,
   "metadata": {},
   "outputs": [
    {
     "name": "stdout",
     "output_type": "stream",
     "text": [
      "588946\n",
      "834515\n",
      "781075\n",
      "180828\n",
      "981238\n",
      "836881\n",
      "310604\n",
      "773982\n",
      "500658\n",
      "810863\n",
      "124663\n",
      "871746\n",
      "986057\n",
      "379479\n",
      "144528\n",
      "485484\n",
      "845623\n",
      "150503\n",
      "214270\n",
      "517837\n",
      "482623\n",
      "721490\n",
      "955757\n",
      "143856\n",
      "571782\n",
      "973158\n",
      "703403\n",
      "960395\n",
      "521087\n",
      "461971\n",
      "879634\n",
      "716985\n",
      "265922\n",
      "283796\n",
      "203200\n",
      "327122\n",
      "534763\n",
      "391848\n",
      "971123\n",
      "207443\n",
      "488661\n",
      "782129\n",
      "928288\n",
      "581858\n",
      "282482\n",
      "572815\n",
      "608952\n",
      "628849\n",
      "630568\n",
      "388969\n",
      "159438\n",
      "970791\n",
      "143142\n",
      "998293\n",
      "681499\n",
      "888886\n",
      "608522\n",
      "362471\n",
      "692318\n",
      "626000\n",
      "581065\n",
      "787967\n",
      "381227\n",
      "750259\n",
      "881983\n",
      "294697\n"
     ]
    }
   ],
   "source": [
    "for name in CPIdict:\n",
    "    x=CPIdict[name]\n",
    "    if x[1]>=20 and x[2]>=15 and x[3]>=10 and x[4]>=5:\n",
    "        print(name)"
   ]
  },
  {
   "cell_type": "markdown",
   "metadata": {},
   "source": [
    "#### 2.d: Print out the names of all students who completed a minor \n",
    "Atleast 10 credits with minor tag in a specific department"
   ]
  },
  {
   "cell_type": "code",
   "execution_count": 49,
   "metadata": {},
   "outputs": [
    {
     "name": "stdout",
     "output_type": "stream",
     "text": [
      "{'358405': {'MA': 29}, '180828': {'CSE': 15}, '981238': {'MM': 22}, '847809': {'IE': 66}, '270007': {'IE': 22}, '781075': {'CE': 20}, '986057': {'ME': 13}, '124663': {'EE': 37}, '364146': {'MA': 37}, '517837': {'CH': 20}, '721490': {'EP': 27}, '150503': {'CH': 15}, '571782': {'ME': 38}, '716985': {'MM': 38}, '194063': {'EP': 12}, '265922': {'EP': 27}, '482623': {'IE': 48}, '329535': {'EC': 27}, '207443': {'ME': 10}, '810863': {'CE': 36}, '973158': {'EE': 32}, '143142': {'CSE': 30}, '970791': {'MA': 20}, '907454': {'CSE': 50}, '888886': {'CE': 40}, '608522': {'EC': 19}, '608952': {'EP': 18}, '143856': {'CE': 35}, '773982': {'EE': 25}, '960395': {'EE': 44}, '283796': {'ME': 32}, '461584': {'EE': 43}, '879634': {'EP': 37}, '597353': {'CSE': 70}, '845623': {'EE': 19}, '465496': {'MA': 46}, '718510': {'EP': 24}, '534763': {'MA': 15}, '680096': {'CH': 22}, '836881': {'MM': 52}, '787967': {'EC': 16}, '344265': {'CSE': 28}, '581858': {'MA': 23}, '391848': {'ME': 28}, '485484': {'MM': 14}, '775967': {'EC': 23}, '138296': {'MM': 29}, '381526': {'CE': 34}, '681499': {'CH': 36}, '816041': {'MA': 26}, '971123': {'MA': 22}, '199713': {'EE': 36}, '928288': {'CSE': 8}, '630568': {'EP': 30}, '379479': {'MA': 38}, '362471': {'EE': 39}, '703403': {'EC': 53}, '388969': {'CSE': 43}, '836431': {'EE': 31}, '582912': {'CH': 27}, '381227': {'CE': 29}, '478606': {'CE': 38}, '159438': {'EE': 30}, '733782': {'CH': 32}, '782129': {'MA': 23}, '144528': {'ME': 23}, '851029': {'CSE': 12}, '881983': {'MA': 20}, '458200': {'EC': 35}, '998293': {'ME': 12}, '628849': {'MA': 45}, '995208': {'ME': 24}, '613401': {'CE': 26}, '301135': {'IE': 29}, '500658': {'CE': 21}, '870642': {'MM': 8}, '488661': {'EE': 11}, '788020': {'CE': 37}, '626000': {'EC': 21}, '955757': {'MM': 30}, '841365': {'MA': 21}, '750259': {'MM': 13}, '572815': {'CSE': 33}, '521087': {'CSE': 30}, '214270': {'CH': 35}, '461971': {'CE': 45}, '692318': {'CSE': 17}, '145372': {'EP': 33}, '588946': {'MA': 37}, '834515': {'MA': 15}, '208100': {'EE': 35}, '871746': {'IE': 14}, '327122': {'MM': 10}, '581065': {'EP': 39}, '310604': {'EE': 7}, '203200': {'CH': 22}, '589528': {'EE': 7}, '294697': {'MM': 14}, '993835': {'CE': 34}, '282482': {'MM': 12}}\n"
     ]
    }
   ],
   "source": [
    "minors={}\n",
    "for data in DATA:\n",
    "    if data[4]!='minor':\n",
    "        continue\n",
    "    if data[0] not in minors:\n",
    "        minors[data[0]]={}\n",
    "    x=minors[data[0]]\n",
    "    if data[1] not in x:\n",
    "        x[data[1]]=0\n",
    "    x[data[1]]+=data[2]\n",
    "print(minors)"
   ]
  },
  {
   "cell_type": "code",
   "execution_count": 50,
   "metadata": {},
   "outputs": [
    {
     "name": "stdout",
     "output_type": "stream",
     "text": [
      "588946\n",
      "145372\n",
      "834515\n",
      "344265\n",
      "358405\n",
      "781075\n",
      "180828\n",
      "981238\n",
      "836881\n",
      "847809\n",
      "773982\n",
      "500658\n",
      "810863\n",
      "124663\n",
      "364146\n",
      "871746\n",
      "270007\n",
      "597353\n",
      "986057\n",
      "718510\n",
      "836431\n",
      "379479\n",
      "582912\n",
      "788020\n",
      "613401\n",
      "144528\n",
      "485484\n",
      "680096\n",
      "199713\n",
      "851029\n",
      "845623\n",
      "150503\n",
      "214270\n",
      "517837\n",
      "482623\n",
      "721490\n",
      "955757\n",
      "143856\n",
      "571782\n",
      "973158\n",
      "703403\n",
      "960395\n",
      "521087\n",
      "461971\n",
      "879634\n",
      "716985\n",
      "194063\n",
      "265922\n",
      "283796\n",
      "203200\n",
      "301135\n",
      "327122\n",
      "381526\n",
      "534763\n",
      "391848\n",
      "329535\n",
      "971123\n",
      "207443\n",
      "488661\n",
      "782129\n",
      "581858\n",
      "733782\n",
      "282482\n",
      "572815\n",
      "608952\n",
      "628849\n",
      "630568\n",
      "388969\n",
      "159438\n",
      "478606\n",
      "995208\n",
      "841365\n",
      "970791\n",
      "143142\n",
      "998293\n",
      "907454\n",
      "681499\n",
      "888886\n",
      "608522\n",
      "362471\n",
      "465496\n",
      "208100\n",
      "138296\n",
      "775967\n",
      "692318\n",
      "461584\n",
      "626000\n",
      "458200\n",
      "581065\n",
      "787967\n",
      "381227\n",
      "750259\n",
      "881983\n",
      "294697\n",
      "816041\n",
      "993835\n"
     ]
    }
   ],
   "source": [
    "#the above result shows that noone is trying to do minor in >1 dept, so just a simple logic as before works\n",
    "for name in CPIdict:\n",
    "    x=CPIdict[name]\n",
    "    if x[5]>=10:\n",
    "        print(name)"
   ]
  },
  {
   "cell_type": "markdown",
   "metadata": {},
   "source": [
    "#### 2.e: Print out the names of all students who completed a honours\n",
    "Atleast 10 credits with honours tag and 20 core credits"
   ]
  },
  {
   "cell_type": "code",
   "execution_count": 46,
   "metadata": {},
   "outputs": [
    {
     "name": "stdout",
     "output_type": "stream",
     "text": [
      "588946\n",
      "145372\n",
      "834515\n",
      "781075\n",
      "836881\n",
      "310604\n",
      "773982\n",
      "500658\n",
      "810863\n",
      "124663\n",
      "364146\n",
      "871746\n",
      "986057\n",
      "718510\n",
      "379479\n",
      "582912\n",
      "788020\n",
      "613401\n",
      "144528\n",
      "485484\n",
      "199713\n",
      "845623\n",
      "150503\n",
      "214270\n",
      "517837\n",
      "482623\n",
      "721490\n",
      "955757\n",
      "589528\n",
      "143856\n",
      "571782\n",
      "973158\n",
      "703403\n",
      "960395\n",
      "521087\n",
      "461971\n",
      "879634\n",
      "716985\n",
      "265922\n",
      "283796\n",
      "203200\n",
      "327122\n",
      "534763\n",
      "391848\n",
      "971123\n",
      "207443\n",
      "488661\n",
      "782129\n",
      "928288\n",
      "581858\n",
      "282482\n",
      "572815\n",
      "608952\n",
      "628849\n",
      "630568\n",
      "388969\n",
      "159438\n",
      "870642\n",
      "970791\n",
      "143142\n",
      "998293\n",
      "681499\n",
      "888886\n",
      "608522\n",
      "362471\n",
      "465496\n",
      "208100\n",
      "692318\n",
      "626000\n",
      "458200\n",
      "581065\n",
      "787967\n",
      "750259\n",
      "881983\n",
      "294697\n"
     ]
    }
   ],
   "source": [
    "for name in CPIdict:\n",
    "    x=CPIdict[name]\n",
    "    if x[1]>=20 and x[6]>=10:\n",
    "        print(name)"
   ]
  },
  {
   "cell_type": "markdown",
   "metadata": {},
   "source": [
    "# **SciPy** "
   ]
  },
  {
   "cell_type": "markdown",
   "metadata": {},
   "source": [
    "## Part A\n",
    "Minimize the function $f(x, y) = 2(x - y - 3)^2 + 4(x + 2y + 1)^4$.<br>\n",
    "With the constraints : $ x - y \\ge -3, (x + 2)^2 + (y + 1)^2 \\le 5$ <br>\n",
    "Using scipy.optimize.minimize with constraints. (Hint: Look at the examples in the official documentation)"
   ]
  },
  {
   "cell_type": "code",
   "execution_count": 52,
   "metadata": {},
   "outputs": [],
   "source": [
    "from scipy.optimize import minimize"
   ]
  },
  {
   "cell_type": "code",
   "execution_count": 61,
   "metadata": {},
   "outputs": [
    {
     "name": "stdout",
     "output_type": "stream",
     "text": [
      "[ 0.23492503 -0.92851489] 7.345026216976594\n"
     ]
    }
   ],
   "source": [
    "def f(params):\n",
    "    x,y=params\n",
    "    return 2 * (x - y - 3)**2 + 4 * (x + 2*y + 1)**4\n",
    "constraints = [\n",
    "    {'type': 'ineq', 'fun': lambda params: params[0] - params[1] + 3},  # x - y >= -3\n",
    "    {'type': 'ineq', 'fun': lambda params: 5 - ((params[0] + 2)**2 + (params[1] + 1)**2)}  # (x + 2)^2 + (y + 1)^2 <= 5\n",
    "]\n",
    "ig=[0,0]\n",
    "result = minimize(f, ig, constraints=constraints)\n",
    "print(result.x,result.fun)"
   ]
  },
  {
   "cell_type": "markdown",
   "metadata": {},
   "source": [
    "# Part B\n",
    "Evaluate the line integral of the function $f(x, y) = x^2 + y^4$ along the circle $ x^2 + y^2 = 3 $ anticlockwise (scalar integral, not vector). You must use scipy for integration but you may use parameterization"
   ]
  },
  {
   "cell_type": "code",
   "execution_count": 64,
   "metadata": {},
   "outputs": [
    {
     "name": "stdout",
     "output_type": "stream",
     "text": [
      "53.05363140385086+-5.376843748017279e-09\n"
     ]
    }
   ],
   "source": [
    "from scipy.integrate import quad\n",
    "import numpy as np\n",
    "def ff(t):\n",
    "    return (3 * np.cos(t)**2 + 9 * np.sin(t)**4) * np.sqrt(3)\n",
    "result, error = quad(ff, 0, 2 * np.pi)\n",
    "print(f\"{result}+-{error}\")"
   ]
  },
  {
   "cell_type": "code",
   "execution_count": null,
   "metadata": {},
   "outputs": [],
   "source": [
    "# put x=sqrt3 cost, y=sqrt3 sint for the ff(t) i.e. the integrand"
   ]
  },
  {
   "cell_type": "markdown",
   "metadata": {},
   "source": [
    "# **Numpy**"
   ]
  },
  {
   "cell_type": "markdown",
   "metadata": {},
   "source": [
    "### Read Lisan_Al_Gaib.pdf for problem description and complete the following functions"
   ]
  },
  {
   "cell_type": "code",
   "execution_count": 78,
   "metadata": {},
   "outputs": [
    {
     "name": "stderr",
     "output_type": "stream",
     "text": [
      "/home/aditya/.local/lib/python3.10/site-packages/matplotlib/projections/__init__.py:63: UserWarning: Unable to import Axes3D. This may be due to multiple versions of Matplotlib being installed (e.g. as a system package and as a pip package). As a result, the 3D projection is not available.\n",
      "  warnings.warn(\"Unable to import Axes3D. This may be due to multiple versions of \"\n"
     ]
    }
   ],
   "source": [
    "import time # to time the execution\n",
    "import numpy as np\n",
    "import matplotlib.pyplot as plt"
   ]
  },
  {
   "cell_type": "code",
   "execution_count": 66,
   "metadata": {},
   "outputs": [],
   "source": [
    "### TODO 1\n",
    "### Load data from data_path\n",
    "### Check the input file spice_locations.txt to understand the Data Format\n",
    "### Return : np array of size Nx2\n",
    "def load_data(data_path):\n",
    "    data = np.loadtxt(data_path, delimiter=',')\n",
    "    return data"
   ]
  },
  {
   "cell_type": "code",
   "execution_count": 67,
   "metadata": {},
   "outputs": [],
   "source": [
    "### TODO 2.1\n",
    "### If init_centers is None, initialize the centers by selecting K data points at random without replacement\n",
    "### Else, use the centers provided in init_centers\n",
    "### Return : np array of size Kx2\n",
    "def initialise_centers(data, K, init_centers=None):\n",
    "    if init_centers is None:\n",
    "        indices = np.random.choice(data.shape[0], size=K, replace=False)\n",
    "        centers = data[indices]\n",
    "    else:\n",
    "        centers=init_centers\n",
    "    return centers"
   ]
  },
  {
   "cell_type": "code",
   "execution_count": 68,
   "metadata": {},
   "outputs": [],
   "source": [
    "### TODO 2.2\n",
    "### Initialize the labels to all ones to size (N,) where N is the number of data points\n",
    "### Return : np array of size N\n",
    "def initialise_labels(data):\n",
    "    N = data.shape[0]\n",
    "    labels = np.ones(N, dtype=int)\n",
    "    return labels"
   ]
  },
  {
   "cell_type": "code",
   "execution_count": 69,
   "metadata": {},
   "outputs": [],
   "source": [
    "### TODO 3.1 : E step\n",
    "### For Each data point, find the distance to each center\n",
    "### Return : np array of size NxK\n",
    "def calculate_distances(data, centers):\n",
    "    distances = np.linalg.norm(data[:, np.newaxis, :] - centers, axis=2)\n",
    "    return distances"
   ]
  },
  {
   "cell_type": "code",
   "execution_count": 70,
   "metadata": {},
   "outputs": [],
   "source": [
    "### TODO 3.2 : E step\n",
    "### For Each data point, assign the label of the nearest center\n",
    "### Return : np array of size N\n",
    "def update_labels(distances):\n",
    "    labels = np.argmin(distances, axis=1)\n",
    "    return labels"
   ]
  },
  {
   "cell_type": "code",
   "execution_count": 71,
   "metadata": {},
   "outputs": [],
   "source": [
    "### TODO 4 : M step\n",
    "### Update the centers to the mean of the data points assigned to it\n",
    "### Return : np array of size Kx2\n",
    "def update_centers(data, labels, K):\n",
    "    centers = np.zeros((K, data.shape[1]))  \n",
    "    for k in range(K):\n",
    "        cluster_points = data[labels == k]\n",
    "        if len(cluster_points) > 0:\n",
    "            centers[k] = cluster_points.mean(axis=0)\n",
    "    return centers\n"
   ]
  },
  {
   "cell_type": "code",
   "execution_count": 72,
   "metadata": {},
   "outputs": [],
   "source": [
    "### TODO 6 : Check convergence\n",
    "### Check if the labels have changed from the previous iteration\n",
    "### Return : True / False\n",
    "def check_termination(labels1, labels2):\n",
    "    return np.array_equal(labels1, labels2)"
   ]
  },
  {
   "cell_type": "code",
   "execution_count": 73,
   "metadata": {},
   "outputs": [],
   "source": [
    "### DON'T CHANGE ANYTHING IN THE FOLLOWING FUNCTION\n",
    "def kmeans(data_path:str, K:int, init_centers):\n",
    "    '''\n",
    "    Input :\n",
    "        data (type str): path to the file containing the data\n",
    "        K (type int): number of clusters\n",
    "        init_centers (type numpy.ndarray): initial centers. shape = (K, 2) or None\n",
    "    Output :\n",
    "        centers (type numpy.ndarray): final centers. shape = (K, 2)\n",
    "        labels (type numpy.ndarray): label of each data point. shape = (N,)\n",
    "        time (type float): time taken by the algorithm to converge in seconds\n",
    "    N is the number of data points each of shape (2,)\n",
    "    '''\n",
    "    data = load_data(data_path)    \n",
    "    centers = initialise_centers(data, K, init_centers)\n",
    "    labels = initialise_labels(data)\n",
    "\n",
    "    start_time = time.time() # Time stamp \n",
    "\n",
    "    while True:\n",
    "        distances = calculate_distances(data, centers)\n",
    "        labels_new = update_labels(distances)\n",
    "        centers = update_centers(data, labels_new, K)\n",
    "        if check_termination(labels, labels_new): break\n",
    "        else: labels = labels_new\n",
    " \n",
    "    end_time = time.time() # Time stamp after the algorithm ends\n",
    "    return centers, labels, end_time - start_time "
   ]
  },
  {
   "cell_type": "code",
   "execution_count": 79,
   "metadata": {},
   "outputs": [],
   "source": [
    "### TODO 7\n",
    "def visualise(data_path, labels, centers):\n",
    "    data = load_data(data_path)\n",
    "\n",
    "    # Scatter plot of the data points\n",
    "    plt.figure(figsize=(8, 6))\n",
    "    plt.scatter(data[:, 0], data[:, 1], c=labels, s=50, cmap='viridis',label='Data points')\n",
    "    plt.scatter(centers[:, 0], centers[:, 1], c='black', s=200, alpha=0.5,label='Cluster centers')\n",
    "\n",
    "    plt.title('K-means clustering')\n",
    "    plt.xlabel('Longitude')\n",
    "    plt.ylabel('Latitude')    \n",
    "    plt.savefig('kmeans.png')\n",
    "\n",
    "\n",
    "    ## DO NOT CHANGE THE FOLLOWING LINE\n",
    "    return plt"
   ]
  },
  {
   "cell_type": "code",
   "execution_count": 80,
   "metadata": {},
   "outputs": [
    {
     "name": "stdout",
     "output_type": "stream",
     "text": [
      "Time taken for the algorithm to converge: 0.0013663768768310547\n"
     ]
    },
    {
     "data": {
      "text/plain": [
       "<module 'matplotlib.pyplot' from '/home/aditya/.local/lib/python3.10/site-packages/matplotlib/pyplot.py'>"
      ]
     },
     "execution_count": 80,
     "metadata": {},
     "output_type": "execute_result"
    },
    {
     "data": {
      "image/png": "[encoded data removed]",
      "text/plain": [
       "<Figure size 800x600 with 1 Axes>"
      ]
     },
     "metadata": {},
     "output_type": "display_data"
    }
   ],
   "source": [
    "### After you have completed the above functions, run the following code to generate the plot\n",
    "data_path = 'spice_locations.txt'\n",
    "K, init_centers = 2, None\n",
    "centers, labels, time_taken = kmeans(data_path, K, init_centers)\n",
    "print('Time taken for the algorithm to converge:', time_taken)\n",
    "visualise(data_path, labels, centers)"
   ]
  }
 ],
 "metadata": {
  "kernelspec": {
   "display_name": "Python 3 (ipykernel)",
   "language": "python",
   "name": "python3"
  },
  "language_info": {
   "codemirror_mode": {
    "name": "ipython",
    "version": 3
   },
   "file_extension": ".py",
   "mimetype": "text/x-python",
   "name": "python",
   "nbconvert_exporter": "python",
   "pygments_lexer": "ipython3",
   "version": "3.10.12"
  }
 },
 "nbformat": 4,
 "nbformat_minor": 4
}
